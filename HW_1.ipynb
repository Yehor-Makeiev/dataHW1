{
  "nbformat": 4,
  "nbformat_minor": 0,
  "metadata": {
    "colab": {
      "provenance": [],
      "toc_visible": true,
      "authorship_tag": "ABX9TyO/G7uC2lP2VQlZLmdDG6Yh",
      "include_colab_link": true
    },
    "kernelspec": {
      "name": "python3",
      "display_name": "Python 3"
    },
    "language_info": {
      "name": "python"
    }
  },
  "cells": [
    {
      "cell_type": "markdown",
      "metadata": {
        "id": "view-in-github",
        "colab_type": "text"
      },
      "source": [
        "<a href=\"https://colab.research.google.com/github/Yehor-Makeiev/dataHW1/blob/main/HW_1.ipynb\" target=\"_parent\"><img src=\"https://colab.research.google.com/assets/colab-badge.svg\" alt=\"Open In Colab\"/></a>"
      ]
    },
    {
      "cell_type": "code",
      "execution_count": 49,
      "metadata": {
        "colab": {
          "base_uri": "https://localhost:8080/"
        },
        "id": "ADbbe9Efq52h",
        "outputId": "7c19a44a-6e44-44d6-eccb-09db6f66407c"
      },
      "outputs": [
        {
          "output_type": "stream",
          "name": "stdout",
          "text": [
            "[ 1  2  3  4  5  6  7  8  9 10]\n"
          ]
        }
      ],
      "source": [
        "# Task 1 Створіть одновимірний масив (вектор) з першими 10-ма натуральними числами та виведіть його значення.\n",
        "\n",
        "import numpy as np\n",
        "vector = np.arange(1, 11)\n",
        "print(vector)"
      ]
    },
    {
      "cell_type": "code",
      "source": [
        "# Task 2 Створіть двовимірний масив (матрицю) розміром 3x3, заповніть його нулями та виведіть його значення.\n",
        "\n",
        "arr = np.zeros((3, 3), dtype=int)\n",
        "print(arr)\n"
      ],
      "metadata": {
        "colab": {
          "base_uri": "https://localhost:8080/"
        },
        "id": "_XJUgP15pygI",
        "outputId": "11198e55-ac91-4cca-d9c0-2e2bfdea5256"
      },
      "execution_count": 38,
      "outputs": [
        {
          "output_type": "stream",
          "name": "stdout",
          "text": [
            "[[0 0 0]\n",
            " [0 0 0]\n",
            " [0 0 0]]\n"
          ]
        }
      ]
    },
    {
      "cell_type": "code",
      "source": [
        "# Task 3 Створіть масив розміром 5x5, заповніть його випадковими цілими числами в діапазоні від 1 до 10 та виведіть його значення.\n",
        "\n",
        "rand = np.random.randint(1, 11, (5, 5,))\n",
        "print(rand)"
      ],
      "metadata": {
        "colab": {
          "base_uri": "https://localhost:8080/"
        },
        "id": "KTm4URGzrTN3",
        "outputId": "1d93f9c7-56fe-413d-8de0-5b15aead1892"
      },
      "execution_count": 39,
      "outputs": [
        {
          "output_type": "stream",
          "name": "stdout",
          "text": [
            "[[ 2  8  4  3  3]\n",
            " [10  1  7 10  1]\n",
            " [ 5 10  8  6  2]\n",
            " [ 5  9  5  2  1]\n",
            " [ 9  6  6  8  9]]\n"
          ]
        }
      ]
    },
    {
      "cell_type": "code",
      "source": [
        "# Task 4 Створіть масив розміром 4x4, заповніть його випадковими дійсними числами в діапазоні від 0 до 1 та виведіть його значення.\n",
        "\n",
        "rand_fl = np.random.rand(4, 4)\n",
        "print(rand_fl)"
      ],
      "metadata": {
        "colab": {
          "base_uri": "https://localhost:8080/"
        },
        "id": "gQIgJPqQs3gd",
        "outputId": "7b4b1f1b-b641-4cef-8a66-83b7a094412a"
      },
      "execution_count": 40,
      "outputs": [
        {
          "output_type": "stream",
          "name": "stdout",
          "text": [
            "[[0.91556927 0.339196   0.78740414 0.45273089]\n",
            " [0.91939674 0.08535521 0.97633708 0.83491296]\n",
            " [0.82636798 0.54638228 0.0941508  0.81174017]\n",
            " [0.3245458  0.81745468 0.05286016 0.66242971]]\n"
          ]
        }
      ]
    },
    {
      "cell_type": "code",
      "source": [
        "# Task 5 Створіть два одновимірних масиви розміром 5, заповніть їх випадковими\n",
        "# цілими числами в діапазоні від 1 до 10 та виконайте на них поелементні операції додавання, віднімання та множення.\n",
        "\n",
        "arr_1 = np.random.randint(1, 11, 5)\n",
        "arr_2 = np.random.randint(1, 11, 5)\n",
        "print(arr_1)\n",
        "print(arr_2)\n",
        "\n",
        "print(f'\\naddition:\\n{arr_1 + arr_2}')\n",
        "print(f'\\nsubtraction:\\n{arr_1 - arr_2}')\n",
        "print(f'\\nmultiplication:\\n{arr_1 * arr_2}')\n"
      ],
      "metadata": {
        "colab": {
          "base_uri": "https://localhost:8080/"
        },
        "id": "p1HiLIvlt57j",
        "outputId": "71aca8d8-1b00-4b20-e961-957a92a0f62f"
      },
      "execution_count": 41,
      "outputs": [
        {
          "output_type": "stream",
          "name": "stdout",
          "text": [
            "[ 1  4 10  8  7]\n",
            "[1 5 7 5 6]\n",
            "\n",
            "addition:\n",
            "[ 2  9 17 13 13]\n",
            "\n",
            "subtraction:\n",
            "[ 0 -1  3  3  1]\n",
            "\n",
            "multiplication:\n",
            "[ 1 20 70 40 42]\n"
          ]
        }
      ]
    },
    {
      "cell_type": "code",
      "source": [
        "# Task 6 Створіть два вектори розміром 7, заповніть довільними числами та знайдіть їх скалярний добуток.\n",
        "import numpy as np\n",
        "vec_1 = np.random.rand(7)\n",
        "vec_2 = np.random.rand(7)\n",
        "print(vec_1)\n",
        "print(vec_2)\n",
        "\n",
        "scal = np.dot(vec_1, vec_2)\n",
        "print(f'\\nscalar {scal}')\n"
      ],
      "metadata": {
        "colab": {
          "base_uri": "https://localhost:8080/"
        },
        "id": "Jbxq9H3GTnkF",
        "outputId": "08498be9-b044-4be0-a3c1-8dbb267e1c81"
      },
      "execution_count": 42,
      "outputs": [
        {
          "output_type": "stream",
          "name": "stdout",
          "text": [
            "[0.20337798 0.84066942 0.74177078 0.31743121 0.97959499 0.70357809\n",
            " 0.32209052]\n",
            "[0.77879944 0.60182228 0.52614943 0.4471478  0.21180674 0.09348569\n",
            " 0.37549595]\n",
            "\n",
            "scalar 1.590748172066612\n"
          ]
        }
      ]
    },
    {
      "cell_type": "code",
      "source": [
        "# Task 7 Створіть дві матриці розміром 2x2 та 2x3, заповніть їх випадковими цілими числами в діапазоні від 1 до 10 та перемножте їх між собою.\n",
        "import numpy as np\n",
        "\n",
        "matrix_1 = np.random.randint(1, 11, (2, 2))\n",
        "matrix_2 = np.random.randint(1, 11, (2, 3))\n",
        "print(f'matrix 1: \\n{matrix_1}')\n",
        "print(f'matrix 2: \\n{matrix_2}')\n",
        "\n",
        "c = np.dot(matrix_1, matrix_2)\n",
        "print(f'\\n result: \\n{c}')"
      ],
      "metadata": {
        "colab": {
          "base_uri": "https://localhost:8080/"
        },
        "id": "xmEkmSKJU47z",
        "outputId": "a47d09c2-a942-4677-b22a-de66bfe1b416"
      },
      "execution_count": 43,
      "outputs": [
        {
          "output_type": "stream",
          "name": "stdout",
          "text": [
            "matrix 1: \n",
            "[[7 6]\n",
            " [1 1]]\n",
            "matrix 2: \n",
            "[[1 1 7]\n",
            " [8 5 6]]\n",
            "\n",
            " result: \n",
            "[[55 37 85]\n",
            " [ 9  6 13]]\n"
          ]
        }
      ]
    },
    {
      "cell_type": "code",
      "source": [
        "# Task 8 Створіть матрицю розміром 3x3, заповніть її випадковими цілими числами в діапазоні від 1 до 10 та знайдіть її обернену матрицю.\n",
        "import numpy as np\n",
        "\n",
        "matrix_1 = np.random.randint(1, 11, (3, 3))\n",
        "print(f'\\nmatrix 1: {matrix_1}')\n",
        "\n",
        "inverse_matrix = np.linalg.inv(matrix_1)\n",
        "print(f'\\ninverse: {inverse_matrix}')\n",
        "\n"
      ],
      "metadata": {
        "colab": {
          "base_uri": "https://localhost:8080/"
        },
        "id": "nyo303fka7OT",
        "outputId": "ca4addcc-aec9-4156-9e9d-ea7a5aa98173"
      },
      "execution_count": 44,
      "outputs": [
        {
          "output_type": "stream",
          "name": "stdout",
          "text": [
            "\n",
            "matrix 1: [[ 9  3  9]\n",
            " [ 7 10  1]\n",
            " [ 8  3  8]]\n",
            "\n",
            "inverse: [[ 4.27777778e+00  1.66666667e-01 -4.83333333e+00]\n",
            " [-2.66666667e+00  8.68870193e-17  3.00000000e+00]\n",
            " [-3.27777778e+00 -1.66666667e-01  3.83333333e+00]]\n"
          ]
        }
      ]
    },
    {
      "cell_type": "code",
      "source": [
        "# Task 9 Створіть матрицю розміром 4x4, заповніть її випадковими дійсними числами в діапазоні від 0 до 1 та транспонуйте її.\n",
        "import numpy as np\n",
        "\n",
        "matrix_1 = np.random.rand(4, 4)\n",
        "print(matrix_1)\n",
        "\n",
        "matrix_t = matrix_1.T\n",
        "print(f'\\n trans: \\n{matrix_t}')\n"
      ],
      "metadata": {
        "colab": {
          "base_uri": "https://localhost:8080/"
        },
        "id": "b-9lSFhwc-Mb",
        "outputId": "074c8b75-c72c-4882-8d49-4632d1398b87"
      },
      "execution_count": 45,
      "outputs": [
        {
          "output_type": "stream",
          "name": "stdout",
          "text": [
            "[[0.11732981 0.69186579 0.03077642 0.99095251]\n",
            " [0.74665442 0.95564088 0.05564888 0.1791352 ]\n",
            " [0.63182243 0.64639197 0.72831997 0.51602778]\n",
            " [0.48562074 0.85242645 0.83022442 0.0908626 ]]\n",
            "\n",
            " trans: \n",
            "[[0.11732981 0.74665442 0.63182243 0.48562074]\n",
            " [0.69186579 0.95564088 0.64639197 0.85242645]\n",
            " [0.03077642 0.05564888 0.72831997 0.83022442]\n",
            " [0.99095251 0.1791352  0.51602778 0.0908626 ]]\n"
          ]
        }
      ]
    },
    {
      "cell_type": "code",
      "source": [
        "# Task 10 Створіть матрицю розміром 3x4 та вектор розміром 4, заповніть їх випадковими цілими числами в діапазоні від 1 до 10 та перемножте матрицю на вектор.\n",
        "import numpy as np\n",
        "matrix_1 = np.random.randint(1, 11, (3, 4))\n",
        "print(f'\\nmatrix : \\n{matrix_1}')\n",
        "arr_1 = np.random.randint(1, 11, 4)\n",
        "print(f'\\narray: \\n{arr_1}')\n",
        "\n",
        "c = np.dot(matrix_1, arr_1)\n",
        "print(f'\\nmultiplicationy: \\n{c}')\n"
      ],
      "metadata": {
        "colab": {
          "base_uri": "https://localhost:8080/"
        },
        "id": "ZJ9cIylZfz5J",
        "outputId": "e102b9e0-926d-4f65-f64d-097e051f1af4"
      },
      "execution_count": 46,
      "outputs": [
        {
          "output_type": "stream",
          "name": "stdout",
          "text": [
            "\n",
            "matrix : \n",
            "[[3 8 4 4]\n",
            " [5 8 7 2]\n",
            " [1 1 9 6]]\n",
            "\n",
            "array: \n",
            "[ 9  5  2 10]\n",
            "\n",
            "multiplicationy: \n",
            "[115 119  92]\n"
          ]
        }
      ]
    },
    {
      "cell_type": "code",
      "source": [
        "# Task 11 Створіть матрицю розміром 2x3 та вектор розміром 3, заповніть їх випадковими дійсними числами в діапазоні від 0 до 1 та перемножте матрицю на вектор.\n",
        "import numpy as np\n",
        "matrix_1 = np.random.rand(2, 3)\n",
        "print(f'\\nmatrix : \\n{matrix_1}')\n",
        "arr_1 = np.random.rand(3)\n",
        "print(f'\\narray: \\n{arr_1}')\n",
        "\n",
        "c = np.dot(matrix_1, arr_1)\n",
        "print(f'\\nmultiplicationy: \\n{c}')"
      ],
      "metadata": {
        "colab": {
          "base_uri": "https://localhost:8080/"
        },
        "id": "yiHBWyPSgrDZ",
        "outputId": "4c5fdca2-833d-4d67-f094-b39abf53fe1f"
      },
      "execution_count": 47,
      "outputs": [
        {
          "output_type": "stream",
          "name": "stdout",
          "text": [
            "\n",
            "matrix : \n",
            "[[0.21763465 0.81620692 0.33981891]\n",
            " [0.25482202 0.58514246 0.82591073]]\n",
            "\n",
            "array: \n",
            "[0.70178941 0.65208217 0.23405906]\n",
            "\n",
            "multiplicationy: \n",
            "[0.76450536 0.75370425]\n"
          ]
        }
      ]
    },
    {
      "cell_type": "code",
      "source": [
        "# Task 12 Створіть дві матриці розміром 2x2, заповніть їх випадковими цілими числами в діапазоні від 1 до 10 та виконайте їхнє поелементне множення\n",
        "import numpy as np\n",
        "\n",
        "matrix_1 = np.random.randint(1, 11, (2, 2))\n",
        "matrix_2 = np.random.randint(1, 11, (2, 2))\n",
        "print(f'\\nmatrix 1: \\n{matrix_1}')\n",
        "print(f'\\nmatrix 2: \\n{matrix_2}')\n",
        "\n",
        "res = matrix_1 * matrix_2\n",
        "print(f'\\nresult: \\n{res}')\n"
      ],
      "metadata": {
        "colab": {
          "base_uri": "https://localhost:8080/"
        },
        "id": "iEFxOA-IhCak",
        "outputId": "58b61ed5-c602-4988-eedb-c8a96f88e06b"
      },
      "execution_count": 53,
      "outputs": [
        {
          "output_type": "stream",
          "name": "stdout",
          "text": [
            "\n",
            "matrix 1: \n",
            "[[9 4]\n",
            " [8 4]]\n",
            "\n",
            "matrix 2: \n",
            "[[6 4]\n",
            " [6 4]]\n",
            "\n",
            "result: \n",
            "[[54 16]\n",
            " [48 16]]\n"
          ]
        }
      ]
    },
    {
      "cell_type": "code",
      "source": [
        "# Task 13 Створіть дві матриці розміром 2x2, заповніть їх випадковими цілими числами в діапазоні від 1 до 10 та знайдіть їх добуток.\n",
        "import numpy as np\n",
        "\n",
        "matrix_1 = np.random.randint(1, 11, (2, 2))\n",
        "matrix_2 = np.random.randint(1, 11, (2, 2))\n",
        "print(f'\\nmatrix 1: \\n{matrix_1}')\n",
        "print(f'\\nmatrix 2: \\n{matrix_2}')\n",
        "\n",
        "res = np.dot(matrix_1, matrix_2)\n",
        "print(f'\\nresult: \\n{res}')\n"
      ],
      "metadata": {
        "colab": {
          "base_uri": "https://localhost:8080/"
        },
        "id": "SNUVPQp_iTyW",
        "outputId": "9bbadde0-b129-4d38-c74e-2b896c88aa41"
      },
      "execution_count": 54,
      "outputs": [
        {
          "output_type": "stream",
          "name": "stdout",
          "text": [
            "\n",
            "matrix 1: \n",
            "[[3 3]\n",
            " [3 9]]\n",
            "\n",
            "matrix 2: \n",
            "[[ 7 10]\n",
            " [10  9]]\n",
            "\n",
            "result: \n",
            "[[ 51  57]\n",
            " [111 111]]\n"
          ]
        }
      ]
    },
    {
      "cell_type": "code",
      "source": [
        "# Task 14 Створіть матрицю розміром 5x5, заповніть її випадковими цілими числами в діапазоні від 1 до 100 та знайдіть суму елементів матриці.\n",
        "import numpy as np\n",
        "matrix_1 = np.random.randint(1, 101, (5, 5))\n",
        "print(f'\\nmatrix 1: \\n{matrix_1}')\n",
        "\n",
        "s = np.sum(matrix_1)\n",
        "print(f'\\nsum: \\n{s}')\n"
      ],
      "metadata": {
        "colab": {
          "base_uri": "https://localhost:8080/"
        },
        "id": "qb7tW8qfi_hp",
        "outputId": "dced846b-130b-448b-9f8f-9937a0975570"
      },
      "execution_count": 55,
      "outputs": [
        {
          "output_type": "stream",
          "name": "stdout",
          "text": [
            "\n",
            "matrix 1: \n",
            "[[38  8 61 64 99]\n",
            " [73 45 65 63 83]\n",
            " [42 32 72 25 34]\n",
            " [72 87 69 63 55]\n",
            " [91 25 10 46 76]]\n",
            "\n",
            "sum: \n",
            "1398\n"
          ]
        }
      ]
    },
    {
      "cell_type": "code",
      "source": [
        "# Task 15 Створіть дві матриці розміром 4x4, заповніть їх випадковими цілими числами в діапазоні від 1 до 10 та знайдіть їхню різницю.\n",
        "import numpy as np\n",
        "\n",
        "matrix_1 = np.random.randint(1, 11, (4, 4))\n",
        "matrix_2 = np.random.randint(1, 11, (4, 4))\n",
        "print(f'\\nmatrix 1: \\n{matrix_1}')\n",
        "print(f'\\nmatrix 2: \\n{matrix_2}')\n",
        "\n",
        "res = matrix_1 - matrix_2\n",
        "print(f'\\ndiff: \\n{res}')\n"
      ],
      "metadata": {
        "colab": {
          "base_uri": "https://localhost:8080/"
        },
        "id": "P0nIe8MtiH4G",
        "outputId": "12744f33-7cef-4fc3-a13c-1a2f062102b4"
      },
      "execution_count": 56,
      "outputs": [
        {
          "output_type": "stream",
          "name": "stdout",
          "text": [
            "\n",
            "matrix 1: \n",
            "[[2 3 3 3]\n",
            " [7 8 3 9]\n",
            " [1 5 9 7]\n",
            " [6 5 8 6]]\n",
            "\n",
            "matrix 2: \n",
            "[[5 6 8 5]\n",
            " [1 4 1 4]\n",
            " [2 6 4 9]\n",
            " [5 5 2 8]]\n",
            "\n",
            "diff: \n",
            "[[-3 -3 -5 -2]\n",
            " [ 6  4  2  5]\n",
            " [-1 -1  5 -2]\n",
            " [ 1  0  6 -2]]\n"
          ]
        }
      ]
    },
    {
      "cell_type": "code",
      "source": [
        "# Task 16 Створіть матрицю розміром 3x3, заповніть її випадковими дійсними числами в діапазоні від 0 до 1 та\n",
        "# знайдіть вектор-стовпчик, що містить суму елементів кожного рядка матриці.\n",
        "import numpy as np\n",
        "\n",
        "matrix_1 = np.random.rand(3, 3)\n",
        "print(f'\\nmatrix 1: \\n{matrix_1}')\n",
        "sum_v = np.sum(matrix_1, axis=1).reshape(-1, 1)\n",
        "print(f'\\n result: \\n{sum_v} ')"
      ],
      "metadata": {
        "colab": {
          "base_uri": "https://localhost:8080/"
        },
        "id": "w_Yf_4cgj2Fr",
        "outputId": "733f9bb9-7e18-4b4c-af22-164fee16d2d3"
      },
      "execution_count": 60,
      "outputs": [
        {
          "output_type": "stream",
          "name": "stdout",
          "text": [
            "\n",
            "matrix 1: \n",
            "[[0.13590726 0.66003625 0.58789312]\n",
            " [0.25233799 0.20315099 0.31305777]\n",
            " [0.10850485 0.40073664 0.50272596]]\n",
            "\n",
            " result: \n",
            "[[1.38383663]\n",
            " [0.76854675]\n",
            " [1.01196745]] \n"
          ]
        }
      ]
    },
    {
      "cell_type": "code",
      "source": [
        "# Task 17 Створіть матрицю розміром 3x4 з довільними цілими числами і створінь матрицю з квадратами цих чисел.\n",
        "import numpy as np\n",
        "\n",
        "matrix_1 = np.random.randint(1, 11, (3, 4))\n",
        "print(f'\\nmatrix 1: \\n{matrix_1}')\n",
        "\n",
        "sq = matrix_1 ** 2\n",
        "print(f'\\n squared: \\n {sq}')\n"
      ],
      "metadata": {
        "colab": {
          "base_uri": "https://localhost:8080/"
        },
        "id": "PmeJ2edBlCyK",
        "outputId": "7d97471d-5fb9-4aa3-c21f-6b79961ae84b"
      },
      "execution_count": 61,
      "outputs": [
        {
          "output_type": "stream",
          "name": "stdout",
          "text": [
            "\n",
            "matrix 1: \n",
            "[[10  9  2  7]\n",
            " [ 8  4  2  7]\n",
            " [ 6  9 10  1]]\n",
            "\n",
            " squared: \n",
            " [[100  81   4  49]\n",
            " [ 64  16   4  49]\n",
            " [ 36  81 100   1]]\n"
          ]
        }
      ]
    },
    {
      "cell_type": "code",
      "source": [
        "# Task 18 Створіть вектор розміром 4, заповніть його випадковими цілими числами в діапазоні від 1 до 50 та знайдіть вектор з квадратними коренями цих чисел.\n",
        "import numpy as np\n",
        "vec_1 = np.random.randint(1, 51 , 5)\n",
        "print(f'\\nvector: \\n{vec_1}')\n",
        "sq = np.sqrt(vec_1)\n",
        "print(f'\\n squared: \\n {sq}')\n",
        "\n"
      ],
      "metadata": {
        "colab": {
          "base_uri": "https://localhost:8080/"
        },
        "id": "X1hIfzv7lkWy",
        "outputId": "3431877b-57e6-49fc-bbe5-92e86b79a9e4"
      },
      "execution_count": 64,
      "outputs": [
        {
          "output_type": "stream",
          "name": "stdout",
          "text": [
            "\n",
            "vector: \n",
            "[42  8 45 46 43]\n",
            "\n",
            " squared: \n",
            " [6.4807407  2.82842712 6.70820393 6.78232998 6.55743852]\n"
          ]
        }
      ]
    }
  ]
}